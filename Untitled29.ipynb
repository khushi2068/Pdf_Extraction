{
  "nbformat": 4,
  "nbformat_minor": 0,
  "metadata": {
    "colab": {
      "provenance": [],
      "authorship_tag": "ABX9TyPILKGdh3LcZLlYEHG5E40c",
      "include_colab_link": true
    },
    "kernelspec": {
      "name": "python3",
      "display_name": "Python 3"
    },
    "language_info": {
      "name": "python"
    }
  },
  "cells": [
    {
      "cell_type": "markdown",
      "metadata": {
        "id": "view-in-github",
        "colab_type": "text"
      },
      "source": [
        "<a href=\"https://colab.research.google.com/github/khushi2068/Pdf_Extraction/blob/main/Untitled29.ipynb\" target=\"_parent\"><img src=\"https://colab.research.google.com/assets/colab-badge.svg\" alt=\"Open In Colab\"/></a>"
      ]
    },
    {
      "cell_type": "code",
      "execution_count": 1,
      "metadata": {
        "colab": {
          "base_uri": "https://localhost:8080/"
        },
        "collapsed": true,
        "id": "dsOIweU13eFP",
        "outputId": "07328ebd-93c1-46e3-8f30-a28ecf411a44"
      },
      "outputs": [
        {
          "output_type": "stream",
          "name": "stdout",
          "text": [
            "Collecting pymupdf\n",
            "  Downloading PyMuPDF-1.24.5-cp310-none-manylinux2014_x86_64.whl (3.5 MB)\n",
            "\u001b[2K     \u001b[90m━━━━━━━━━━━━━━━━━━━━━━━━━━━━━━━━━━━━━━━━\u001b[0m \u001b[32m3.5/3.5 MB\u001b[0m \u001b[31m10.6 MB/s\u001b[0m eta \u001b[36m0:00:00\u001b[0m\n",
            "\u001b[?25hCollecting PyMuPDFb==1.24.3 (from pymupdf)\n",
            "  Downloading PyMuPDFb-1.24.3-py3-none-manylinux2014_x86_64.manylinux_2_17_x86_64.whl (15.8 MB)\n",
            "\u001b[2K     \u001b[90m━━━━━━━━━━━━━━━━━━━━━━━━━━━━━━━━━━━━━━━━\u001b[0m \u001b[32m15.8/15.8 MB\u001b[0m \u001b[31m41.1 MB/s\u001b[0m eta \u001b[36m0:00:00\u001b[0m\n",
            "\u001b[?25hInstalling collected packages: PyMuPDFb, pymupdf\n",
            "Successfully installed PyMuPDFb-1.24.3 pymupdf-1.24.5\n"
          ]
        }
      ],
      "source": [
        "!pip install pymupdf\n"
      ]
    },
    {
      "cell_type": "code",
      "source": [
        "\n",
        "import fitz\n",
        "import re"
      ],
      "metadata": {
        "id": "SZ8bolgD5lY8"
      },
      "execution_count": 2,
      "outputs": []
    },
    {
      "cell_type": "code",
      "source": [
        "def extract_text_from_pdf(pdf_path):\n",
        "        # Open the PDF file\n",
        "        document = fitz.open(pdf_path)\n",
        "        text = \"\"\n",
        "        # Iterate through all the pages\n",
        "        for page_num in range(len(document)):\n",
        "            page = document.load_page(page_num)\n",
        "            text += page.get_text()\n",
        "        return text\n",
        "        return \"\"\n",
        ""
      ],
      "metadata": {
        "id": "3Mlzyjjj5oiK"
      },
      "execution_count": 20,
      "outputs": []
    },
    {
      "cell_type": "code",
      "source": [
        "def extract_keywords(text):\n",
        "        # Find keywords in inverted commas\n",
        "        inverted_comma_keywords = re.findall(r'\"([^\"]+)\"', text)\n",
        "        # inverted_comma_keywords = re.findall(r\"\", text)\n",
        "\n",
        "        return inverted_comma_keywords\n",
        "        return []"
      ],
      "metadata": {
        "id": "blzv0Qy357DQ"
      },
      "execution_count": 21,
      "outputs": []
    },
    {
      "cell_type": "code",
      "source": [
        "import fitz  # PyMuPDF\n",
        "\n",
        "def extract_bold_words_from_pdf(pdf_path):\n",
        "    doc = fitz.open(pdf_path)\n",
        "    bold_words = []\n",
        "\n",
        "    for page_num in range(len(doc)):\n",
        "        page = doc.load_page(page_num)\n",
        "        blocks = page.get_text(\"dict\")[\"blocks\"]\n",
        "\n",
        "        for block in blocks:\n",
        "            if block[\"type\"] == 0:\n",
        "                for line in block[\"lines\"]:\n",
        "                    for span in line[\"spans\"]:\n",
        "                        if span[\"flags\"] == 20:  # bold text flag\n",
        "                            # words = span[\"text\"].split()\n",
        "                            # bold_words.extend(words)\n",
        "                            words = span[\"text\"].strip()\n",
        "                            bold_words.append(words)\n",
        "\n",
        "    return bold_words\n",
        "\n",
        "# pdf_path = '/content/testing_pdf.pdf'\n",
        "# bold_words = extract_bold_words_from_pdf(pdf_path)\n",
        "# print(bold_words)\n"
      ],
      "metadata": {
        "id": "6py6mkll6PNy"
      },
      "execution_count": 33,
      "outputs": []
    },
    {
      "cell_type": "code",
      "source": [
        "!pip install pdfplumber"
      ],
      "metadata": {
        "colab": {
          "base_uri": "https://localhost:8080/"
        },
        "collapsed": true,
        "id": "lqDLDdoczpbi",
        "outputId": "0656fac0-7719-49a9-b985-7b955e17bbb4"
      },
      "execution_count": 14,
      "outputs": [
        {
          "output_type": "stream",
          "name": "stdout",
          "text": [
            "Collecting pdfplumber\n",
            "  Downloading pdfplumber-0.11.0-py3-none-any.whl (56 kB)\n",
            "\u001b[2K     \u001b[90m━━━━━━━━━━━━━━━━━━━━━━━━━━━━━━━━━━━━━━━━\u001b[0m \u001b[32m56.4/56.4 kB\u001b[0m \u001b[31m1.9 MB/s\u001b[0m eta \u001b[36m0:00:00\u001b[0m\n",
            "\u001b[?25hCollecting pdfminer.six==20231228 (from pdfplumber)\n",
            "  Downloading pdfminer.six-20231228-py3-none-any.whl (5.6 MB)\n",
            "\u001b[2K     \u001b[90m━━━━━━━━━━━━━━━━━━━━━━━━━━━━━━━━━━━━━━━━\u001b[0m \u001b[32m5.6/5.6 MB\u001b[0m \u001b[31m41.0 MB/s\u001b[0m eta \u001b[36m0:00:00\u001b[0m\n",
            "\u001b[?25hRequirement already satisfied: Pillow>=9.1 in /usr/local/lib/python3.10/dist-packages (from pdfplumber) (9.4.0)\n",
            "Collecting pypdfium2>=4.18.0 (from pdfplumber)\n",
            "  Downloading pypdfium2-4.30.0-py3-none-manylinux_2_17_x86_64.manylinux2014_x86_64.whl (2.8 MB)\n",
            "\u001b[2K     \u001b[90m━━━━━━━━━━━━━━━━━━━━━━━━━━━━━━━━━━━━━━━━\u001b[0m \u001b[32m2.8/2.8 MB\u001b[0m \u001b[31m51.9 MB/s\u001b[0m eta \u001b[36m0:00:00\u001b[0m\n",
            "\u001b[?25hRequirement already satisfied: charset-normalizer>=2.0.0 in /usr/local/lib/python3.10/dist-packages (from pdfminer.six==20231228->pdfplumber) (3.3.2)\n",
            "Requirement already satisfied: cryptography>=36.0.0 in /usr/local/lib/python3.10/dist-packages (from pdfminer.six==20231228->pdfplumber) (42.0.7)\n",
            "Requirement already satisfied: cffi>=1.12 in /usr/local/lib/python3.10/dist-packages (from cryptography>=36.0.0->pdfminer.six==20231228->pdfplumber) (1.16.0)\n",
            "Requirement already satisfied: pycparser in /usr/local/lib/python3.10/dist-packages (from cffi>=1.12->cryptography>=36.0.0->pdfminer.six==20231228->pdfplumber) (2.22)\n",
            "Installing collected packages: pypdfium2, pdfminer.six, pdfplumber\n",
            "Successfully installed pdfminer.six-20231228 pdfplumber-0.11.0 pypdfium2-4.30.0\n"
          ]
        }
      ]
    },
    {
      "cell_type": "code",
      "source": [
        "# import pdfplumber\n",
        "\n",
        "# with pdfplumber.open(\"/content/testing_pdf.pdf\") as pdf:\n",
        "#   text = pdf.pages[0]\n",
        "#   bold_words = text.filter(lambda obj: obj[\"object_type\"] == \"char\" and \"Bold\" in obj[\"fontname\"])\n",
        "#   print(bold_words.extract_text())\n"
      ],
      "metadata": {
        "colab": {
          "base_uri": "https://localhost:8080/"
        },
        "id": "BjHyXmP-zi1r",
        "outputId": "09b44c7c-e9ff-4147-a4c7-a72197c3d4e0"
      },
      "execution_count": 23,
      "outputs": [
        {
          "output_type": "stream",
          "name": "stdout",
          "text": [
            "\n"
          ]
        }
      ]
    },
    {
      "cell_type": "code",
      "source": [
        "# Path to the PDF file\n",
        "pdf_path = '/content/testing_pdf.pdf'\n",
        "print(f\"Processing file: {pdf_path}\")\n",
        "\n",
        "# Extract text and keywords\n",
        "text = extract_text_from_pdf(pdf_path)\n",
        "\n",
        "if text:\n",
        "    inverted_comma_keywords = extract_keywords(text)\n",
        "    bold_keywords = extract_bold_words_from_pdf(pdf_path)\n",
        "\n",
        "    print(\"Keywords in inverted commas:\", inverted_comma_keywords)\n",
        "    print(\"Bold keywords:\", bold_keywords)\n",
        "else:\n",
        "    print(\"No text extracted from PDF.\")\n"
      ],
      "metadata": {
        "colab": {
          "base_uri": "https://localhost:8080/"
        },
        "id": "urHOUFua5byJ",
        "outputId": "0202a4f1-cc9b-4da3-fc97-34cc851a5927"
      },
      "execution_count": 34,
      "outputs": [
        {
          "output_type": "stream",
          "name": "stdout",
          "text": [
            "Processing file: /content/testing_pdf.pdf\n",
            "Keywords in inverted commas: ['Artificial Intelligence', 'Data Science', 'Natural Language Processing']\n",
            "Bold keywords: ['Artificial Intelligence', 'Big Data', 'Artificial Intelligence', 'Deep Learning']\n"
          ]
        }
      ]
    },
    {
      "cell_type": "code",
      "source": [],
      "metadata": {
        "id": "xryUFiuF0TfT"
      },
      "execution_count": 24,
      "outputs": []
    }
  ]
}